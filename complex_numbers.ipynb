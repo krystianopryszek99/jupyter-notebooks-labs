{
 "cells": [
  {
   "cell_type": "markdown",
   "id": "8aeb4d0d-4607-4e1d-a6f6-c058edd2fb4a",
   "metadata": {},
   "source": [
    "# Complex Numbers \n",
    "\n",
    "***"
   ]
  },
  {
   "cell_type": "markdown",
   "id": "eb5c409d-25ca-4c33-a7ef-52806811b6ba",
   "metadata": {},
   "source": [
    "$ \\large a + b i \\qquad \\qquad a, b \\in \\mathbb{R} \\qquad \\qquad i^2 = -1 \\qquad \\qquad \\mathrm{e.g.} -2.0 + 5.0 i$"
   ]
  },
  {
   "cell_type": "markdown",
   "id": "64d3b290-50bd-4911-a76a-4cc0a61afc7e",
   "metadata": {},
   "source": [
    "## Setup\n",
    "\n",
    "***"
   ]
  },
  {
   "cell_type": "code",
   "execution_count": 1,
   "id": "d41f77e8-512e-4249-8689-ea9afa24e657",
   "metadata": {},
   "outputs": [],
   "source": [
    "# Plotting.\n",
    "import matplotlib.pyplot as plt\n",
    "\n",
    "# Numerical arrays.\n",
    "import numpy as np\n",
    "\n",
    "# Plots size.\n",
    "plt.rcParams['figure.figsize'] = (20, 10)\n",
    "# Plot style.\n",
    "plt.style.use('seaborn-whitegrid')"
   ]
  },
  {
   "cell_type": "markdown",
   "id": "a8bd1010-26c7-40ea-af95-022afdf4c441",
   "metadata": {},
   "source": [
    "## Build-In Python\n",
    "\n",
    "***"
   ]
  },
  {
   "cell_type": "code",
   "execution_count": 2,
   "id": "d5840af0-6870-44fd-b909-ac5379c3498b",
   "metadata": {},
   "outputs": [
    {
     "data": {
      "text/plain": [
       "(-1+0j)"
      ]
     },
     "execution_count": 2,
     "metadata": {},
     "output_type": "execute_result"
    }
   ],
   "source": [
    "1.0j * 1.0j"
   ]
  },
  {
   "cell_type": "code",
   "execution_count": 3,
   "id": "27fd47e3-0354-4290-8873-914b40e3ead2",
   "metadata": {},
   "outputs": [
    {
     "data": {
      "text/plain": [
       "(-2+5j)"
      ]
     },
     "execution_count": 3,
     "metadata": {},
     "output_type": "execute_result"
    }
   ],
   "source": [
    "x = -2.0 + 5.0j\n",
    "x"
   ]
  },
  {
   "cell_type": "code",
   "execution_count": 4,
   "id": "17410937-1ef9-48b2-bd5a-e4792a661871",
   "metadata": {},
   "outputs": [
    {
     "data": {
      "text/plain": [
       "(-21-20j)"
      ]
     },
     "execution_count": 4,
     "metadata": {},
     "output_type": "execute_result"
    }
   ],
   "source": [
    "x**2"
   ]
  },
  {
   "cell_type": "code",
   "execution_count": 5,
   "id": "4547ffcd-6fc1-46f2-8d0d-104307bd9c94",
   "metadata": {},
   "outputs": [
    {
     "data": {
      "text/plain": [
       "(3+1.5j)"
      ]
     },
     "execution_count": 5,
     "metadata": {},
     "output_type": "execute_result"
    }
   ],
   "source": [
    "y = 3.0 + 1.5j\n",
    "y"
   ]
  },
  {
   "cell_type": "code",
   "execution_count": 6,
   "id": "ff32b6c8-0017-4369-bba7-7bea29872906",
   "metadata": {},
   "outputs": [
    {
     "data": {
      "text/plain": [
       "(1+6.5j)"
      ]
     },
     "execution_count": 6,
     "metadata": {},
     "output_type": "execute_result"
    }
   ],
   "source": [
    "x + y"
   ]
  },
  {
   "cell_type": "code",
   "execution_count": 7,
   "id": "c073b01e-bcbd-45a8-9eb0-2a2b096acccc",
   "metadata": {},
   "outputs": [
    {
     "data": {
      "text/plain": [
       "(-13.5+12j)"
      ]
     },
     "execution_count": 7,
     "metadata": {},
     "output_type": "execute_result"
    }
   ],
   "source": [
    "x * y"
   ]
  },
  {
   "cell_type": "markdown",
   "id": "5be64d50-ad66-4eb1-8a21-cd08d79282e7",
   "metadata": {},
   "source": [
    "## As Pairs\n",
    "\n",
    "***"
   ]
  },
  {
   "cell_type": "code",
   "execution_count": 8,
   "id": "8fd834cb-4bc2-415e-b1ff-f739df313bbd",
   "metadata": {},
   "outputs": [
    {
     "data": {
      "text/plain": [
       "[-2.0, 5.0]"
      ]
     },
     "execution_count": 8,
     "metadata": {},
     "output_type": "execute_result"
    }
   ],
   "source": [
    "x = [-2.0, 5.0]\n",
    "x"
   ]
  },
  {
   "cell_type": "code",
   "execution_count": 9,
   "id": "7ac15b8a-1102-45ab-9197-b89d4755340c",
   "metadata": {},
   "outputs": [
    {
     "data": {
      "text/plain": [
       "[3.0, 1.5]"
      ]
     },
     "execution_count": 9,
     "metadata": {},
     "output_type": "execute_result"
    }
   ],
   "source": [
    "y = [3.0, 1.5]\n",
    "y"
   ]
  },
  {
   "cell_type": "code",
   "execution_count": 10,
   "id": "6f3f543d-41be-46d2-802d-5811b28d485a",
   "metadata": {},
   "outputs": [],
   "source": [
    "def add(u, v):\n",
    "    return [u[0] + v[0], u[1] + v[1]]"
   ]
  },
  {
   "cell_type": "code",
   "execution_count": 11,
   "id": "b484fd3c-6eaa-40ff-8e97-2a6805163b6c",
   "metadata": {},
   "outputs": [
    {
     "data": {
      "text/plain": [
       "[1.0, 6.5]"
      ]
     },
     "execution_count": 11,
     "metadata": {},
     "output_type": "execute_result"
    }
   ],
   "source": [
    "add(x, y)"
   ]
  },
  {
   "cell_type": "code",
   "execution_count": 12,
   "id": "562eea08-c8e8-4d5b-9b9b-a149c5e520b0",
   "metadata": {},
   "outputs": [],
   "source": [
    "def mult(u, v):\n",
    "    a, b = u\n",
    "    c, d = v\n",
    "    return [(a * c) - (b * d), (b * c) + (a * d)]"
   ]
  },
  {
   "cell_type": "code",
   "execution_count": 13,
   "id": "d398400b-eca4-40b4-81b5-a58681ab8c89",
   "metadata": {},
   "outputs": [
    {
     "data": {
      "text/plain": [
       "[-13.5, 12.0]"
      ]
     },
     "execution_count": 13,
     "metadata": {},
     "output_type": "execute_result"
    }
   ],
   "source": [
    "mult(x, y)"
   ]
  },
  {
   "cell_type": "markdown",
   "id": "e395772a-a947-4684-99d0-72b7445f6b6a",
   "metadata": {},
   "source": [
    "## Origins\n",
    "\n",
    "***"
   ]
  },
  {
   "cell_type": "markdown",
   "id": "a30625c7-c27d-4dca-bc58-c294cc7b65ad",
   "metadata": {},
   "source": [
    "$ \\large a x^2 + b x + c \\qquad \\qquad \\textrm{e.g.} \\  x^2 - 5x + 6 \\qquad \\qquad \\textrm{e.g.} \\  2x^2 + 5x + 10 \\qquad \\qquad x = \\frac{-b \\pm \\sqrt{b^2 - 4ac}}{2a}$"
   ]
  },
  {
   "cell_type": "code",
   "execution_count": 14,
   "id": "b7a1c372-311b-4d41-93aa-776cf1cd67e8",
   "metadata": {},
   "outputs": [],
   "source": [
    "# A function that returns a function.\n",
    "class quadratic:\n",
    "    def __init__(self, a, b, c):\n",
    "        self.a = a\n",
    "        self.b = b\n",
    "        self.c = c\n",
    "\n",
    "    def __call__(self, x):\n",
    "        return self.a * x**2 + self.b * x + self.c"
   ]
  },
  {
   "cell_type": "code",
   "execution_count": 15,
   "id": "db88ec76-528f-4812-9450-a222caf82df0",
   "metadata": {},
   "outputs": [
    {
     "data": {
      "text/plain": [
       "<__main__.quadratic at 0x2a716de0730>"
      ]
     },
     "execution_count": 15,
     "metadata": {},
     "output_type": "execute_result"
    }
   ],
   "source": [
    "p = quadratic(a=1.0, b=-5.0, c=6.0)\n",
    "p"
   ]
  },
  {
   "cell_type": "code",
   "execution_count": 16,
   "id": "108e912a-d28f-4d9f-bb60-ffcf3f93de7a",
   "metadata": {},
   "outputs": [
    {
     "data": {
      "text/plain": [
       "2.0"
      ]
     },
     "execution_count": 16,
     "metadata": {},
     "output_type": "execute_result"
    }
   ],
   "source": [
    "p(1.0)"
   ]
  },
  {
   "cell_type": "code",
   "execution_count": 17,
   "id": "932f534e-d6d7-4d7c-8518-45f97b677d46",
   "metadata": {},
   "outputs": [],
   "source": [
    "# Create an array of 1000 evenly-spaced values between 0 and 5.\n",
    "x = np.linspace(0.0, 5.0, 1000)"
   ]
  },
  {
   "cell_type": "code",
   "execution_count": 18,
   "id": "d0ad1e82-2adf-404a-bebf-d29d1e47cb87",
   "metadata": {},
   "outputs": [
    {
     "data": {
      "text/plain": [
       "<matplotlib.lines.Line2D at 0x2a716e1de80>"
      ]
     },
     "execution_count": 18,
     "metadata": {},
     "output_type": "execute_result"
    },
    {
     "data": {
      "image/png": "[encoded data removed]",
      "text/plain": [
       "<Figure size 1440x720 with 1 Axes>"
      ]
     },
     "metadata": {},
     "output_type": "display_data"
    }
   ],
   "source": [
    "# Plot p(x).\n",
    "fig, ax = plt.subplots()\n",
    "ax.plot(x, p(x))\n",
    "ax.axhline(y=0, color='k')\n",
    "ax.axvline(x=0, color='k')"
   ]
  },
  {
   "cell_type": "code",
   "execution_count": 19,
   "id": "bd6e5645-8fc3-466b-8b0f-7a764c70d370",
   "metadata": {},
   "outputs": [],
   "source": [
    "# Solve with the formula.\n",
    "def solve(p):\n",
    "    a, b, c = p.a, p.b, p.c\n",
    "    x1 = (-b - (b**2 - 4 * a * c)**0.5) / (2 * a)\n",
    "    x2 = (-b + (b**2 - 4 * a * c)**0.5) / (2 * a)\n",
    "    return [x1, x2]"
   ]
  },
  {
   "cell_type": "code",
   "execution_count": 20,
   "id": "c9294dbd-cb45-4787-9046-7278f278ee60",
   "metadata": {},
   "outputs": [
    {
     "data": {
      "text/plain": [
       "[2.0, 3.0]"
      ]
     },
     "execution_count": 20,
     "metadata": {},
     "output_type": "execute_result"
    }
   ],
   "source": [
    "solve(p)"
   ]
  },
  {
   "cell_type": "markdown",
   "id": "d939661c-c26f-4c57-9317-a70e94331880",
   "metadata": {},
   "source": [
    "## Not hitting x\n",
    "\n",
    "***"
   ]
  },
  {
   "cell_type": "markdown",
   "id": "843029e1-bbdc-439f-8b71-1da096ad0c04",
   "metadata": {},
   "source": [
    "$ \\large a x^2 + b x + c = (1.0) x^2 + (0.0) x + (1.0) = x^2 + 1$"
   ]
  },
  {
   "cell_type": "code",
   "execution_count": 21,
   "id": "c883232a-c646-4457-ac47-1f43e6599513",
   "metadata": {},
   "outputs": [],
   "source": [
    "p = quadratic(a=1.0, b=0.0, c=1.0)"
   ]
  },
  {
   "cell_type": "code",
   "execution_count": 22,
   "id": "b4209772-ef28-4f4a-bc65-8b8d8e9a8a6d",
   "metadata": {},
   "outputs": [],
   "source": [
    "x = np.linspace(-2.0, 2.0, 1000)"
   ]
  },
  {
   "cell_type": "code",
   "execution_count": 23,
   "id": "fb3180d9-19dd-4825-97dc-8a561d3f6b28",
   "metadata": {},
   "outputs": [
    {
     "data": {
      "text/plain": [
       "<matplotlib.lines.Line2D at 0x2a718efee80>"
      ]
     },
     "execution_count": 23,
     "metadata": {},
     "output_type": "execute_result"
    },
    {
     "data": {
      "image/png": "[encoded data removed]",
      "text/plain": [
       "<Figure size 1440x720 with 1 Axes>"
      ]
     },
     "metadata": {},
     "output_type": "display_data"
    }
   ],
   "source": [
    "fig, ax = plt.subplots()\n",
    "ax.plot(x, p(x))\n",
    "ax.axhline(y=0, color='k')\n",
    "ax.axvline(x=0, color='k')"
   ]
  },
  {
   "cell_type": "code",
   "execution_count": 24,
   "id": "907b51a8-a062-42eb-a3cc-28e18a313a83",
   "metadata": {},
   "outputs": [
    {
     "data": {
      "text/plain": [
       "((-6.123233995736766e-17-1j), (6.123233995736766e-17+1j))"
      ]
     },
     "execution_count": 24,
     "metadata": {},
     "output_type": "execute_result"
    }
   ],
   "source": [
    "x1, x2 = solve(p)\n",
    "x1, x2"
   ]
  },
  {
   "cell_type": "code",
   "execution_count": 25,
   "id": "4b7d1cbb-570c-46e8-8c27-6a9bf868767a",
   "metadata": {},
   "outputs": [
    {
     "data": {
      "text/plain": [
       "'x1 = -0.0-1.0j, x2 = 0.0+1.0j'"
      ]
     },
     "execution_count": 25,
     "metadata": {},
     "output_type": "execute_result"
    }
   ],
   "source": [
    "f\"x1 = {x1:.1f}, x2 = {x2:.1f}\""
   ]
  },
  {
   "cell_type": "code",
   "execution_count": 26,
   "id": "119038a6-226d-4a7f-bc98-1dd4ee286c31",
   "metadata": {},
   "outputs": [],
   "source": [
    "p = quadratic(a=2.0, b=5.0, c=10.0)"
   ]
  },
  {
   "cell_type": "code",
   "execution_count": 27,
   "id": "88a57f3a-f9d7-4864-83f6-23d619cd10f9",
   "metadata": {},
   "outputs": [],
   "source": [
    "x = np.linspace(-4.5, 2.0, 1000)"
   ]
  },
  {
   "cell_type": "code",
   "execution_count": 28,
   "id": "e0bc4025-181f-40d8-bb23-b30011fe8be4",
   "metadata": {},
   "outputs": [
    {
     "data": {
      "text/plain": [
       "<matplotlib.lines.Line2D at 0x2a716e12550>"
      ]
     },
     "execution_count": 28,
     "metadata": {},
     "output_type": "execute_result"
    },
    {
     "data": {
      "image/png": "[encoded data removed]",
      "text/plain": [
       "<Figure size 1440x720 with 1 Axes>"
      ]
     },
     "metadata": {},
     "output_type": "display_data"
    }
   ],
   "source": [
    "fig, ax = plt.subplots()\n",
    "ax.plot(x, p(x))\n",
    "ax.axhline(y=0, color='k')\n",
    "ax.axvline(x=0, color='k')"
   ]
  },
  {
   "cell_type": "code",
   "execution_count": 29,
   "id": "1f387914-5c76-4409-9937-f30a104cf2e7",
   "metadata": {},
   "outputs": [
    {
     "data": {
      "text/plain": [
       "((-1.2500000000000002-1.8540496217739157j),\n",
       " (-1.2499999999999998+1.8540496217739157j))"
      ]
     },
     "execution_count": 29,
     "metadata": {},
     "output_type": "execute_result"
    }
   ],
   "source": [
    "x1, x2 = solve(p)\n",
    "x1, x2"
   ]
  },
  {
   "cell_type": "code",
   "execution_count": 30,
   "id": "f9122ca6-19fa-4270-a3dc-6ee63c37765e",
   "metadata": {},
   "outputs": [
    {
     "data": {
      "text/plain": [
       "'x1 = -1.3-1.9j, x2 = -1.2+1.9j'"
      ]
     },
     "execution_count": 30,
     "metadata": {},
     "output_type": "execute_result"
    }
   ],
   "source": [
    "f\"x1 = {x1:.1f}, x2 = {x2:.1f}\""
   ]
  },
  {
   "cell_type": "markdown",
   "id": "209b2924-4002-42e9-8cfd-0914346e4890",
   "metadata": {},
   "source": [
    "***\n",
    "\n",
    "## End"
   ]
  }
 ],
 "metadata": {
  "kernelspec": {
   "display_name": "Python 3",
   "language": "python",
   "name": "python3"
  },
  "language_info": {
   "codemirror_mode": {
    "name": "ipython",
    "version": 3
   },
   "file_extension": ".py",
   "mimetype": "text/x-python",
   "name": "python",
   "nbconvert_exporter": "python",
   "pygments_lexer": "ipython3",
   "version": "3.8.8"
  }
 },
 "nbformat": 4,
 "nbformat_minor": 5
}
