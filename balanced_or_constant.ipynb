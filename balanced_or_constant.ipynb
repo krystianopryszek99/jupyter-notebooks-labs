{
 "cells": [
  {
   "cell_type": "markdown",
   "id": "1f6151c0-43dc-4258-a5fa-8ee22e7c514c",
   "metadata": {},
   "source": [
    "# Balanced or Constant Functions\n",
    "\n",
    "***"
   ]
  },
  {
   "cell_type": "code",
   "execution_count": 1,
   "id": "296c2a4f-b42e-4bcb-9f14-6f31f0e3fc15",
   "metadata": {},
   "outputs": [],
   "source": [
    "# Random selections.\n",
    "import random\n",
    "\n",
    "# Permutations and combinations.\n",
    "import itertools"
   ]
  },
  {
   "cell_type": "markdown",
   "id": "e45e4094-ada5-4440-9108-4b51154b3dc0",
   "metadata": {},
   "source": [
    "## One Bit Inputs\n",
    "\n",
    "***"
   ]
  },
  {
   "cell_type": "markdown",
   "id": "785e45ba-e071-4877-b44d-b1a3e12c439d",
   "metadata": {},
   "source": [
    "$x$ is a bit.\n",
    "\n",
    "It's possible values are 0 and 1."
   ]
  },
  {
   "cell_type": "code",
   "execution_count": 2,
   "id": "6ef105ca-4260-4e7d-9fd8-0302327f3ae7",
   "metadata": {},
   "outputs": [],
   "source": [
    "# Constant function.\n",
    "def f_a(x):\n",
    "    return 1"
   ]
  },
  {
   "cell_type": "code",
   "execution_count": 3,
   "id": "73a39128-b384-4d2b-bb23-83641096c675",
   "metadata": {},
   "outputs": [
    {
     "data": {
      "text/plain": [
       "1"
      ]
     },
     "execution_count": 3,
     "metadata": {},
     "output_type": "execute_result"
    }
   ],
   "source": [
    "f_a(0)"
   ]
  },
  {
   "cell_type": "code",
   "execution_count": 4,
   "id": "3ba5a04d-1ade-4d47-bfb2-1fe9863012d0",
   "metadata": {},
   "outputs": [
    {
     "data": {
      "text/plain": [
       "1"
      ]
     },
     "execution_count": 4,
     "metadata": {},
     "output_type": "execute_result"
    }
   ],
   "source": [
    "f_a(1)"
   ]
  },
  {
   "cell_type": "code",
   "execution_count": 5,
   "id": "6f7202ba-ecb1-48c8-b89d-a92d5febd09d",
   "metadata": {},
   "outputs": [],
   "source": [
    "# Constant function.\n",
    "def f_b(x):\n",
    "    return 0"
   ]
  },
  {
   "cell_type": "code",
   "execution_count": 6,
   "id": "a8edf859-0304-452b-8bb1-4889e534571b",
   "metadata": {},
   "outputs": [
    {
     "data": {
      "text/plain": [
       "0"
      ]
     },
     "execution_count": 6,
     "metadata": {},
     "output_type": "execute_result"
    }
   ],
   "source": [
    "f_b(0)"
   ]
  },
  {
   "cell_type": "code",
   "execution_count": 7,
   "id": "bed9a862-2c78-4d2c-979b-d2f4050e1317",
   "metadata": {},
   "outputs": [
    {
     "data": {
      "text/plain": [
       "0"
      ]
     },
     "execution_count": 7,
     "metadata": {},
     "output_type": "execute_result"
    }
   ],
   "source": [
    "f_b(1)"
   ]
  },
  {
   "cell_type": "code",
   "execution_count": 8,
   "id": "fb41f803-2576-46d6-9cbd-8ecfdcee6bc0",
   "metadata": {},
   "outputs": [],
   "source": [
    "# Balanced function.\n",
    "def f_c(x):\n",
    "    return x"
   ]
  },
  {
   "cell_type": "code",
   "execution_count": 9,
   "id": "94e02da1-26e6-43f6-9f13-2b98d1f8a26c",
   "metadata": {},
   "outputs": [
    {
     "data": {
      "text/plain": [
       "0"
      ]
     },
     "execution_count": 9,
     "metadata": {},
     "output_type": "execute_result"
    }
   ],
   "source": [
    "f_c(0)"
   ]
  },
  {
   "cell_type": "code",
   "execution_count": 10,
   "id": "843ff5c0-06ea-4ec1-8d2b-4bf987468a1a",
   "metadata": {},
   "outputs": [
    {
     "data": {
      "text/plain": [
       "1"
      ]
     },
     "execution_count": 10,
     "metadata": {},
     "output_type": "execute_result"
    }
   ],
   "source": [
    "f_c(1)"
   ]
  },
  {
   "cell_type": "code",
   "execution_count": 11,
   "id": "84c59a8a-c914-4609-952b-11f38227fcfd",
   "metadata": {},
   "outputs": [],
   "source": [
    "# Balanced function.\n",
    "def f_d(x):\n",
    "    return ((x + 1) % 2)"
   ]
  },
  {
   "cell_type": "code",
   "execution_count": 12,
   "id": "8a2f8cd2-2576-4fbf-98c4-227eab9a7f3e",
   "metadata": {},
   "outputs": [
    {
     "data": {
      "text/plain": [
       "1"
      ]
     },
     "execution_count": 12,
     "metadata": {},
     "output_type": "execute_result"
    }
   ],
   "source": [
    "f_d(0)"
   ]
  },
  {
   "cell_type": "code",
   "execution_count": 13,
   "id": "f7f03e1d-34f9-458c-8aef-71657a41bc62",
   "metadata": {},
   "outputs": [
    {
     "data": {
      "text/plain": [
       "0"
      ]
     },
     "execution_count": 13,
     "metadata": {},
     "output_type": "execute_result"
    }
   ],
   "source": [
    "f_d(1)"
   ]
  },
  {
   "cell_type": "markdown",
   "id": "3609ed38-a5b1-4d51-8d4a-eb9ffd4a47eb",
   "metadata": {},
   "source": [
    "|  x | f_a(x) | f_b(x) | f_c(x) | f_d(x) |\n",
    "|----|--------|--------|--------|--------|\n",
    "|  **0** |   1    |    0   |   0    |   1    |\n",
    "|  **1** |   1    |    0   |   1    |   0    |"
   ]
  },
  {
   "cell_type": "markdown",
   "id": "cbc43161-7334-4cbd-8b9b-eb0c80688b47",
   "metadata": {},
   "source": [
    "## Pick one of the functions at random\n",
    "\n",
    "***"
   ]
  },
  {
   "cell_type": "code",
   "execution_count": 14,
   "id": "2ae6fbd7-2b9a-42ed-bb5c-698df6e3655c",
   "metadata": {},
   "outputs": [],
   "source": [
    "# Put the four functions in a list.\n",
    "funcs = [f_a, f_b, f_c, f_d]"
   ]
  },
  {
   "cell_type": "code",
   "execution_count": 15,
   "id": "b40a4dc2-cb4b-4104-9be6-19bca2ef4c85",
   "metadata": {},
   "outputs": [
    {
     "data": {
      "text/plain": [
       "<function __main__.f_d(x)>"
      ]
     },
     "execution_count": 15,
     "metadata": {},
     "output_type": "execute_result"
    }
   ],
   "source": [
    "# Select a function from the list at random.\n",
    "random.choice(funcs)"
   ]
  },
  {
   "cell_type": "code",
   "execution_count": 16,
   "id": "9e4f8b05-fbef-4d12-af76-dfc139ed8001",
   "metadata": {},
   "outputs": [],
   "source": [
    "f = random.choice(funcs)"
   ]
  },
  {
   "cell_type": "markdown",
   "id": "612a52d4-54fd-4650-b836-3516d8c024ab",
   "metadata": {},
   "source": [
    "## Test for balanced or constant\n",
    "\n",
    "***"
   ]
  },
  {
   "cell_type": "code",
   "execution_count": 17,
   "id": "85ad2597-66c8-443d-9fd5-cda5bbc99691",
   "metadata": {},
   "outputs": [
    {
     "data": {
      "text/plain": [
       "1"
      ]
     },
     "execution_count": 17,
     "metadata": {},
     "output_type": "execute_result"
    }
   ],
   "source": [
    "f(0)"
   ]
  },
  {
   "cell_type": "code",
   "execution_count": 18,
   "id": "4594e080-a332-4250-9540-8f1bdb339c2b",
   "metadata": {},
   "outputs": [
    {
     "data": {
      "text/plain": [
       "0"
      ]
     },
     "execution_count": 18,
     "metadata": {},
     "output_type": "execute_result"
    }
   ],
   "source": [
    "f(1)"
   ]
  },
  {
   "cell_type": "markdown",
   "id": "84cf33b6-8990-4a94-abc9-c3b2ba059b08",
   "metadata": {},
   "source": [
    "We had to check 2 inputs to determine whether the function was balanced or constant."
   ]
  },
  {
   "cell_type": "markdown",
   "id": "d67dc137-afc0-4e34-8eff-5cd237752a02",
   "metadata": {},
   "source": [
    "## Two Bits\n",
    "\n",
    "***"
   ]
  },
  {
   "cell_type": "markdown",
   "id": "0680f50a-6be5-4241-83d0-b1cc925a4abc",
   "metadata": {},
   "source": [
    "|  x1   |  x2   | f | f | f | f | f | f | f | f | f | f | f | f | f | f | f | f |\n",
    "|-------|-------|---|---|---|---|---|---|---|---|---|---|---|---|---|---|---|---|\n",
    "| **0** | **0** | 0 | 0 | 0 | 0 | 0 | 0 | 0 | 0 | 1 | 1 | 1 | 1 | 1 | 1 | 1 | 1 |\n",
    "| **0** | **1** | 0 | 0 | 0 | 0 | 1 | 1 | 1 | 1 | 0 | 0 | 0 | 0 | 1 | 1 | 1 | 1 |\n",
    "| **1** | **0** | 0 | 0 | 1 | 1 | 0 | 0 | 1 | 1 | 0 | 0 | 1 | 1 | 0 | 0 | 1 | 1 |\n",
    "| **1** | **1** | 0 | 1 | 0 | 1 | 0 | 1 | 0 | 1 | 0 | 1 | 0 | 1 | 0 | 1 | 0 | 1 |"
   ]
  }
 ],
 "metadata": {
  "kernelspec": {
   "display_name": "Python 3",
   "language": "python",
   "name": "python3"
  },
  "language_info": {
   "codemirror_mode": {
    "name": "ipython",
    "version": 3
   },
   "file_extension": ".py",
   "mimetype": "text/x-python",
   "name": "python",
   "nbconvert_exporter": "python",
   "pygments_lexer": "ipython3",
   "version": "3.8.8"
  }
 },
 "nbformat": 4,
 "nbformat_minor": 5
}
