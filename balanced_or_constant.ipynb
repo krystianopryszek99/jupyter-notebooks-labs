{
 "cells": [
  {
   "cell_type": "markdown",
   "id": "1f6151c0-43dc-4258-a5fa-8ee22e7c514c",
   "metadata": {},
   "source": [
    "# Balanced or Constant Functions\n",
    "\n",
    "***"
   ]
  },
  {
   "cell_type": "code",
   "execution_count": 1,
   "id": "296c2a4f-b42e-4bcb-9f14-6f31f0e3fc15",
   "metadata": {},
   "outputs": [],
   "source": [
    "# Random selections.\n",
    "import random\n",
    "\n",
    "# Permutations and combinations.\n",
    "import itertools"
   ]
  },
  {
   "cell_type": "markdown",
   "id": "e45e4094-ada5-4440-9108-4b51154b3dc0",
   "metadata": {},
   "source": [
    "## One Bit Inputs\n",
    "\n",
    "***"
   ]
  },
  {
   "cell_type": "markdown",
   "id": "785e45ba-e071-4877-b44d-b1a3e12c439d",
   "metadata": {},
   "source": [
    "$x$ is a bit.\n",
    "\n",
    "It's possible values are 0 and 1."
   ]
  },
  {
   "cell_type": "code",
   "execution_count": 2,
   "id": "6ef105ca-4260-4e7d-9fd8-0302327f3ae7",
   "metadata": {},
   "outputs": [],
   "source": [
    "# Constant function.\n",
    "def f_a(x):\n",
    "    return 1"
   ]
  },
  {
   "cell_type": "code",
   "execution_count": 3,
   "id": "73a39128-b384-4d2b-bb23-83641096c675",
   "metadata": {},
   "outputs": [
    {
     "data": {
      "text/plain": [
       "1"
      ]
     },
     "execution_count": 3,
     "metadata": {},
     "output_type": "execute_result"
    }
   ],
   "source": [
    "f_a(0)"
   ]
  },
  {
   "cell_type": "code",
   "execution_count": 4,
   "id": "3ba5a04d-1ade-4d47-bfb2-1fe9863012d0",
   "metadata": {},
   "outputs": [
    {
     "data": {
      "text/plain": [
       "1"
      ]
     },
     "execution_count": 4,
     "metadata": {},
     "output_type": "execute_result"
    }
   ],
   "source": [
    "f_a(1)"
   ]
  },
  {
   "cell_type": "code",
   "execution_count": 5,
   "id": "6f7202ba-ecb1-48c8-b89d-a92d5febd09d",
   "metadata": {},
   "outputs": [],
   "source": [
    "# Constant function.\n",
    "def f_b(x):\n",
    "    return 0"
   ]
  },
  {
   "cell_type": "code",
   "execution_count": 6,
   "id": "a8edf859-0304-452b-8bb1-4889e534571b",
   "metadata": {},
   "outputs": [
    {
     "data": {
      "text/plain": [
       "0"
      ]
     },
     "execution_count": 6,
     "metadata": {},
     "output_type": "execute_result"
    }
   ],
   "source": [
    "f_b(0)"
   ]
  },
  {
   "cell_type": "code",
   "execution_count": 7,
   "id": "bed9a862-2c78-4d2c-979b-d2f4050e1317",
   "metadata": {},
   "outputs": [
    {
     "data": {
      "text/plain": [
       "0"
      ]
     },
     "execution_count": 7,
     "metadata": {},
     "output_type": "execute_result"
    }
   ],
   "source": [
    "f_b(1)"
   ]
  },
  {
   "cell_type": "code",
   "execution_count": 8,
   "id": "fb41f803-2576-46d6-9cbd-8ecfdcee6bc0",
   "metadata": {},
   "outputs": [],
   "source": [
    "# Balanced function.\n",
    "def f_c(x):\n",
    "    return x"
   ]
  },
  {
   "cell_type": "code",
   "execution_count": 9,
   "id": "94e02da1-26e6-43f6-9f13-2b98d1f8a26c",
   "metadata": {},
   "outputs": [
    {
     "data": {
      "text/plain": [
       "0"
      ]
     },
     "execution_count": 9,
     "metadata": {},
     "output_type": "execute_result"
    }
   ],
   "source": [
    "f_c(0)"
   ]
  },
  {
   "cell_type": "code",
   "execution_count": 10,
   "id": "843ff5c0-06ea-4ec1-8d2b-4bf987468a1a",
   "metadata": {},
   "outputs": [
    {
     "data": {
      "text/plain": [
       "1"
      ]
     },
     "execution_count": 10,
     "metadata": {},
     "output_type": "execute_result"
    }
   ],
   "source": [
    "f_c(1)"
   ]
  },
  {
   "cell_type": "code",
   "execution_count": 11,
   "id": "84c59a8a-c914-4609-952b-11f38227fcfd",
   "metadata": {},
   "outputs": [],
   "source": [
    "# Balanced function.\n",
    "def f_d(x):\n",
    "    return ((x + 1) % 2)"
   ]
  },
  {
   "cell_type": "code",
   "execution_count": 12,
   "id": "8a2f8cd2-2576-4fbf-98c4-227eab9a7f3e",
   "metadata": {},
   "outputs": [
    {
     "data": {
      "text/plain": [
       "1"
      ]
     },
     "execution_count": 12,
     "metadata": {},
     "output_type": "execute_result"
    }
   ],
   "source": [
    "f_d(0)"
   ]
  },
  {
   "cell_type": "code",
   "execution_count": 13,
   "id": "f7f03e1d-34f9-458c-8aef-71657a41bc62",
   "metadata": {},
   "outputs": [
    {
     "data": {
      "text/plain": [
       "0"
      ]
     },
     "execution_count": 13,
     "metadata": {},
     "output_type": "execute_result"
    }
   ],
   "source": [
    "f_d(1)"
   ]
  },
  {
   "cell_type": "markdown",
   "id": "3609ed38-a5b1-4d51-8d4a-eb9ffd4a47eb",
   "metadata": {},
   "source": [
    "|  x | f_a(x) | f_b(x) | f_c(x) | f_d(x) |\n",
    "|----|--------|--------|--------|--------|\n",
    "|  **0** |   1    |    0   |   0    |   1    |\n",
    "|  **1** |   1    |    0   |   1    |   0    |"
   ]
  },
  {
   "cell_type": "markdown",
   "id": "cbc43161-7334-4cbd-8b9b-eb0c80688b47",
   "metadata": {},
   "source": [
    "## Pick one of the functions at random\n",
    "\n",
    "***"
   ]
  },
  {
   "cell_type": "code",
   "execution_count": 14,
   "id": "2ae6fbd7-2b9a-42ed-bb5c-698df6e3655c",
   "metadata": {},
   "outputs": [],
   "source": [
    "# Put the four functions in a list.\n",
    "funcs = [f_a, f_b, f_c, f_d]"
   ]
  },
  {
   "cell_type": "code",
   "execution_count": 15,
   "id": "b40a4dc2-cb4b-4104-9be6-19bca2ef4c85",
   "metadata": {},
   "outputs": [
    {
     "data": {
      "text/plain": [
       "<function __main__.f_c(x)>"
      ]
     },
     "execution_count": 15,
     "metadata": {},
     "output_type": "execute_result"
    }
   ],
   "source": [
    "# Select a function from the list at random.\n",
    "random.choice(funcs)"
   ]
  },
  {
   "cell_type": "code",
   "execution_count": 16,
   "id": "9e4f8b05-fbef-4d12-af76-dfc139ed8001",
   "metadata": {},
   "outputs": [],
   "source": [
    "f = random.choice(funcs)"
   ]
  },
  {
   "cell_type": "markdown",
   "id": "612a52d4-54fd-4650-b836-3516d8c024ab",
   "metadata": {},
   "source": [
    "## Test for balanced or constant\n",
    "\n",
    "***"
   ]
  },
  {
   "cell_type": "code",
   "execution_count": 17,
   "id": "85ad2597-66c8-443d-9fd5-cda5bbc99691",
   "metadata": {},
   "outputs": [
    {
     "data": {
      "text/plain": [
       "1"
      ]
     },
     "execution_count": 17,
     "metadata": {},
     "output_type": "execute_result"
    }
   ],
   "source": [
    "f(0)"
   ]
  },
  {
   "cell_type": "code",
   "execution_count": 18,
   "id": "4594e080-a332-4250-9540-8f1bdb339c2b",
   "metadata": {},
   "outputs": [
    {
     "data": {
      "text/plain": [
       "0"
      ]
     },
     "execution_count": 18,
     "metadata": {},
     "output_type": "execute_result"
    }
   ],
   "source": [
    "f(1)"
   ]
  },
  {
   "cell_type": "markdown",
   "id": "84cf33b6-8990-4a94-abc9-c3b2ba059b08",
   "metadata": {},
   "source": [
    "We had to check 2 inputs to determine whether the function was balanced or constant."
   ]
  },
  {
   "cell_type": "markdown",
   "id": "d67dc137-afc0-4e34-8eff-5cd237752a02",
   "metadata": {},
   "source": [
    "## Two Bits\n",
    "\n",
    "***"
   ]
  },
  {
   "cell_type": "markdown",
   "id": "0680f50a-6be5-4241-83d0-b1cc925a4abc",
   "metadata": {},
   "source": [
    "|  x1   |  x2   | f | f | f | f | f | f | f | f | f | f | f | f | f | f | f | f |\n",
    "|-------|-------|---|---|---|---|---|---|---|---|---|---|---|---|---|---|---|---|\n",
    "| **0** | **0** | 0 | 0 | 0 | 0 | 0 | 0 | 0 | 0 | 1 | 1 | 1 | 1 | 1 | 1 | 1 | 1 |\n",
    "| **0** | **1** | 0 | 0 | 0 | 0 | 1 | 1 | 1 | 1 | 0 | 0 | 0 | 0 | 1 | 1 | 1 | 1 |\n",
    "| **1** | **0** | 0 | 0 | 1 | 1 | 0 | 0 | 1 | 1 | 0 | 0 | 1 | 1 | 0 | 0 | 1 | 1 |\n",
    "| **1** | **1** | 0 | 1 | 0 | 1 | 0 | 1 | 0 | 1 | 0 | 1 | 0 | 1 | 0 | 1 | 0 | 1 |"
   ]
  },
  {
   "cell_type": "code",
   "execution_count": 19,
   "id": "9c8b8fa9-89d3-4990-aa08-f37c8b44a5cb",
   "metadata": {},
   "outputs": [],
   "source": [
    "# Number of input bits.\n",
    "n = 2"
   ]
  },
  {
   "cell_type": "code",
   "execution_count": 20,
   "id": "550dd870-f770-4a25-809c-deca864cc3a3",
   "metadata": {},
   "outputs": [
    {
     "data": {
      "text/plain": [
       "[0, 0, 0, 0]"
      ]
     },
     "execution_count": 20,
     "metadata": {},
     "output_type": "execute_result"
    }
   ],
   "source": [
    "# The zeros constant function.\n",
    "[0] * 2**n"
   ]
  },
  {
   "cell_type": "code",
   "execution_count": 21,
   "id": "d003d4ab-dfb0-403a-8159-c51a3d213159",
   "metadata": {},
   "outputs": [
    {
     "data": {
      "text/plain": [
       "[1, 1, 1, 1]"
      ]
     },
     "execution_count": 21,
     "metadata": {},
     "output_type": "execute_result"
    }
   ],
   "source": [
    "# The ones constant function.\n",
    "[1] * 2**n"
   ]
  },
  {
   "cell_type": "code",
   "execution_count": 22,
   "id": "0708b32b-774a-40b9-8da1-14fdeacc8884",
   "metadata": {},
   "outputs": [
    {
     "data": {
      "text/plain": [
       "[[1, 1, 0, 0],\n",
       " [1, 0, 1, 0],\n",
       " [1, 0, 0, 1],\n",
       " [0, 1, 1, 0],\n",
       " [0, 1, 0, 1],\n",
       " [0, 0, 1, 1]]"
      ]
     },
     "execution_count": 22,
     "metadata": {},
     "output_type": "execute_result"
    }
   ],
   "source": [
    "# Generate the balanced functions.\n",
    "\n",
    "# Adapted from https://stackoverflow.com/a/43817007\n",
    "def balanced_functions(noinputbits):\n",
    "    # The length of the list is 2 to power of noinputbits.\n",
    "    size = 2**noinputbits\n",
    "    # The nubmer of ones is half the length of that list.\n",
    "    count = size // 2\n",
    "    # Generate all positions for 1's.\n",
    "    for positions in itertools.combinations(range(size), count):\n",
    "        # Create a list of zeros.\n",
    "        p = [0] * size\n",
    "        # Set positions to 1's.\n",
    "        for i in positions:\n",
    "            p[i] = 1\n",
    "        # Generate the list.\n",
    "        yield p\n",
    "\n",
    "list(balanced_functions(2))"
   ]
  },
  {
   "cell_type": "code",
   "execution_count": 23,
   "id": "101c340b-f883-4a6c-ac55-2f625f3d6f93",
   "metadata": {},
   "outputs": [],
   "source": [
    "# Generate all the constant and balanced functions.\n",
    "def generate_functions(n):\n",
    "    return list(balanced_functions(n)) + [[0] * 2**n, [1] * 2**n]"
   ]
  },
  {
   "cell_type": "code",
   "execution_count": 24,
   "id": "9272ad9b-c10a-4ea2-ab81-d316a8fbf83a",
   "metadata": {},
   "outputs": [
    {
     "data": {
      "text/plain": [
       "[[1, 1, 0, 0],\n",
       " [1, 0, 1, 0],\n",
       " [1, 0, 0, 1],\n",
       " [0, 1, 1, 0],\n",
       " [0, 1, 0, 1],\n",
       " [0, 0, 1, 1],\n",
       " [0, 0, 0, 0],\n",
       " [1, 1, 1, 1]]"
      ]
     },
     "execution_count": 24,
     "metadata": {},
     "output_type": "execute_result"
    }
   ],
   "source": [
    "# Generate all functions.\n",
    "generate_functions(n)"
   ]
  },
  {
   "cell_type": "code",
   "execution_count": 25,
   "id": "e5606a27-703d-4043-ae50-ea95a45aa199",
   "metadata": {},
   "outputs": [],
   "source": [
    "def randomf(n):\n",
    "    # Get all balanced and constant functions as lists.\n",
    "    funcs = generate_functions(n)\n",
    "    # Return a random function as a list.\n",
    "    return random.choice(funcs)"
   ]
  },
  {
   "cell_type": "code",
   "execution_count": 26,
   "id": "55eb0fef-a885-48da-b419-9b3249b83b1c",
   "metadata": {},
   "outputs": [],
   "source": [
    "# Call randomf for two input bits.\n",
    "f = randomf(2)"
   ]
  },
  {
   "cell_type": "code",
   "execution_count": 27,
   "id": "8063e8fd-ead1-460d-96f5-a78e77052a5e",
   "metadata": {},
   "outputs": [
    {
     "data": {
      "text/plain": [
       "[1, 0, 1, 0]"
      ]
     },
     "execution_count": 27,
     "metadata": {},
     "output_type": "execute_result"
    }
   ],
   "source": [
    "# It's just a list for now.\n",
    "f"
   ]
  },
  {
   "cell_type": "code",
   "execution_count": 28,
   "id": "c644575b-9a6f-4a13-bf94-49000d3d1ebb",
   "metadata": {},
   "outputs": [],
   "source": [
    "# Let's make it a function.\n",
    "def randomf(n):\n",
    "    # Get all balanced and constant functions as lists.\n",
    "    funcs = generate_functions(n)\n",
    "    # Pick one at random.\n",
    "    retvals = random.choice(funcs)\n",
    "    # Create a function from the list.\n",
    "    def f(*x):\n",
    "        # Reverse the bits.\n",
    "        x = x[::-1]\n",
    "        # Running total for position in list for output bit.\n",
    "        retpos = 0\n",
    "        # Loop through the elements in x (reversed).\n",
    "        for i in range(len(x)):\n",
    "            # Multiply i pos of x by 2^i.\n",
    "            retpos = retpos + (x[i] * 2**i)\n",
    "        # List position.\n",
    "        return retvals[retpos]\n",
    "    # Function returns a function.\n",
    "    return f"
   ]
  },
  {
   "cell_type": "code",
   "execution_count": 29,
   "id": "c7f9e0ec-5d2d-456d-ad9a-21c431557016",
   "metadata": {},
   "outputs": [
    {
     "data": {
      "text/plain": [
       "<function __main__.randomf.<locals>.f(*x)>"
      ]
     },
     "execution_count": 29,
     "metadata": {},
     "output_type": "execute_result"
    }
   ],
   "source": [
    "# Get a random function that takes two bits as input.\n",
    "randomf(2)"
   ]
  },
  {
   "cell_type": "code",
   "execution_count": 30,
   "id": "0dc46571-1a2f-456f-a362-468fe0aa1dec",
   "metadata": {},
   "outputs": [],
   "source": [
    "# Get a random function that takes two bits as input.\n",
    "f = randomf(2)"
   ]
  },
  {
   "cell_type": "code",
   "execution_count": 31,
   "id": "f92c8d0b-5123-43fe-a89d-c832002945a1",
   "metadata": {},
   "outputs": [
    {
     "data": {
      "text/plain": [
       "0"
      ]
     },
     "execution_count": 31,
     "metadata": {},
     "output_type": "execute_result"
    }
   ],
   "source": [
    "# Sample calls.\n",
    "f(1, 1)"
   ]
  },
  {
   "cell_type": "code",
   "execution_count": 32,
   "id": "e8912159-c298-4b62-b875-623efd6e9e05",
   "metadata": {},
   "outputs": [
    {
     "data": {
      "text/plain": [
       "0"
      ]
     },
     "execution_count": 32,
     "metadata": {},
     "output_type": "execute_result"
    }
   ],
   "source": [
    "# Sample calls.\n",
    "f(0, 1)"
   ]
  },
  {
   "cell_type": "markdown",
   "id": "eb319766-ba5b-475c-85be-5312324c8533",
   "metadata": {},
   "source": [
    "## Classical Algorithm \n",
    "\n",
    "***"
   ]
  },
  {
   "cell_type": "code",
   "execution_count": 33,
   "id": "e998fcb1-d663-485a-8bdf-0bfd8c813f65",
   "metadata": {},
   "outputs": [],
   "source": [
    "# Number of input bits.\n",
    "n = 2"
   ]
  },
  {
   "cell_type": "code",
   "execution_count": 34,
   "id": "c3cc237c-631f-48ec-b36a-ee273b6d3dbf",
   "metadata": {},
   "outputs": [],
   "source": [
    "# Generate a random constant or balanced function\n",
    "\n",
    "# with n in put bits.\n",
    "f = randomf(n)"
   ]
  },
  {
   "cell_type": "code",
   "execution_count": 35,
   "id": "83551306-6539-4d82-8982-47d66ef0af55",
   "metadata": {},
   "outputs": [
    {
     "data": {
      "text/plain": [
       "[(0, 0), (0, 1), (1, 0), (1, 1)]"
      ]
     },
     "execution_count": 35,
     "metadata": {},
     "output_type": "execute_result"
    }
   ],
   "source": [
    "# Adapted from: https://stackoverflow.com/a/35313967\n",
    "list(itertools.product(*[(0, 1)] * n))"
   ]
  },
  {
   "cell_type": "code",
   "execution_count": 36,
   "id": "5632eefd-dc68-4287-8033-114d39a4de36",
   "metadata": {},
   "outputs": [],
   "source": [
    "def balanced_or_constant(f, n):\n",
    "    # Presume f is constant.\n",
    "    constant = True\n",
    "    # Last returned value.\n",
    "    last = None\n",
    "    # Keep track of number of iterations.\n",
    "    i = 0\n",
    "    # Loop through all possible inputs.\n",
    "    for inputs in itertools.product(*[(0, 1)] * n):\n",
    "        # Try this input on f.\n",
    "        current = f(*inputs)\n",
    "        # Print a debug message.\n",
    "        print(f\"Trying: {inputs}  Return: {current}  Last: {last}\")\n",
    "        # Compare last to current.\n",
    "        if last is not None and current != last:\n",
    "            # Tell the user f is balanced.\n",
    "            constant = False\n",
    "            break\n",
    "        last = current\n",
    "        # Increment the iteration count.\n",
    "        i = i + 1\n",
    "        # Have we performed 2**(n-1) + 1 iterations.\n",
    "        if i > 2**(n-1):\n",
    "            break\n",
    "    if constant:\n",
    "        print(\"Constant\")\n",
    "    else:\n",
    "        print(\"Balanced\")"
   ]
  },
  {
   "cell_type": "code",
   "execution_count": 37,
   "id": "958f8c21-0b59-4969-af37-5dd925e7c54c",
   "metadata": {},
   "outputs": [
    {
     "name": "stdout",
     "output_type": "stream",
     "text": [
      "Trying: (0, 0)  Return: 1  Last: None\n",
      "Trying: (0, 1)  Return: 0  Last: 1\n",
      "Balanced\n"
     ]
    }
   ],
   "source": [
    "balanced_or_constant(f, n)"
   ]
  },
  {
   "cell_type": "markdown",
   "id": "dd0e018c-85b3-42dc-b498-a21338c575ac",
   "metadata": {},
   "source": [
    "## More Than Two Bits\n",
    "\n",
    "***"
   ]
  },
  {
   "cell_type": "code",
   "execution_count": 38,
   "id": "788a01da-5a17-417e-8b6b-4b98bdcecf99",
   "metadata": {},
   "outputs": [],
   "source": [
    "# Five input bits.\n",
    "n = 4"
   ]
  },
  {
   "cell_type": "code",
   "execution_count": 39,
   "id": "77ad4e59-677c-4a42-9694-7bfa58b128bb",
   "metadata": {},
   "outputs": [],
   "source": [
    "# Generate random function.\n",
    "f = randomf(n)"
   ]
  },
  {
   "cell_type": "code",
   "execution_count": 40,
   "id": "8ff1e3e7-f96f-4fdd-acd1-56cd48fb29a2",
   "metadata": {},
   "outputs": [
    {
     "name": "stdout",
     "output_type": "stream",
     "text": [
      "Trying: (0, 0, 0, 0)  Return: 1  Last: None\n",
      "Trying: (0, 0, 0, 1)  Return: 0  Last: 1\n",
      "Balanced\n"
     ]
    }
   ],
   "source": [
    "# Test if balanced.\n",
    "balanced_or_constant(f, n)"
   ]
  },
  {
   "cell_type": "markdown",
   "id": "1996d623-d824-4265-a8a3-a93452b5ed44",
   "metadata": {},
   "source": [
    "***\n",
    "\n",
    "## End"
   ]
  }
 ],
 "metadata": {
  "kernelspec": {
   "display_name": "Python 3",
   "language": "python",
   "name": "python3"
  },
  "language_info": {
   "codemirror_mode": {
    "name": "ipython",
    "version": 3
   },
   "file_extension": ".py",
   "mimetype": "text/x-python",
   "name": "python",
   "nbconvert_exporter": "python",
   "pygments_lexer": "ipython3",
   "version": "3.8.8"
  }
 },
 "nbformat": 4,
 "nbformat_minor": 5
}
